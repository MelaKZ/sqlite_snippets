{
 "cells": [
  {
   "cell_type": "markdown",
   "metadata": {},
   "source": [
    "# SQLITE3 FUNCTION SNIPPETS\n",
    "Created by MelaKZ 2021"
   ]
  },
  {
   "cell_type": "code",
   "execution_count": 159,
   "metadata": {},
   "outputs": [],
   "source": [
    "import sqlite3"
   ]
  },
  {
   "cell_type": "markdown",
   "metadata": {},
   "source": [
    "## Create connection and cursor"
   ]
  },
  {
   "cell_type": "code",
   "execution_count": 160,
   "metadata": {},
   "outputs": [],
   "source": [
    "# First create connection\n",
    "\n",
    "# Database in memory\n",
    "# conn = sqlite3.connect(':memory:')\n",
    "\n",
    "#Database in file, if doesn't exists, creats the database\n",
    "conn = sqlite3.connect('customer.db')\n",
    "\n",
    "# Create cursor\n",
    "c = conn.cursor()"
   ]
  },
  {
   "cell_type": "markdown",
   "metadata": {},
   "source": [
    "## Create Table into Database with Columns from dictionary\n",
    "\n",
    "<strong>1. Creat cursor, for editing database</strong> <br>\n",
    "   sqlite3.connect(\"dbname.db\").cursor()<br><br>\n",
    "<strong>2. Creat Table</strong><br>\n",
    "   cursor().exectute(\"CREATE TABLE tablename(columnname1 DATATYPE, columnname2 DATATYPE)\")<br><br>\n",
    "<strong>3. Commit command</strong><br>\n",
    "   sqlite3.connection(\"dbname.db\").commit()<br><br>\n",
    "<strong>4. Close connection</strong><br>\n",
    "   sqlite3.connection(\"dbname.db\").close()<br>\n",
    "  \n",
    "Datatypes:\n",
    "* NULL - \"None\"\n",
    "* INTEGER - \"int\"\n",
    "* REAL - \"float\"\n",
    "* TEXT - \"str\"\n",
    "* BLOB - \"everything else\""
   ]
  },
  {
   "cell_type": "code",
   "execution_count": 161,
   "metadata": {
    "code_folding": []
   },
   "outputs": [],
   "source": [
    "# Create Table from dictionary\n",
    "def dict_to_table(p_db_name, p_table_name, p_table_cols_dict):\n",
    "    \n",
    "    # SQL command string from dictionary\n",
    "    cols_str = \"(\" + \",\".join([\"{} {}\".format(k, v) for k, v in p_table_cols_dict.items()]) + \")\"\n",
    "\n",
    "    # Create connection\n",
    "    with sqlite3.connect(p_db_name) as connection:\n",
    "        # Create cursor\n",
    "        cursor = connection.cursor()\n",
    "        # Create table\n",
    "        cursor.execute(\"CREATE TABLE {}\".format(p_table_name) + cols_str)\n",
    "        # Commit our command\n",
    "        connection.commit()\n",
    "        \n",
    "    # Printing parameters\n",
    "    print(f\"'{p_table_name}' TABLE has been CREATED in '{p_db_name}' with {len(p_table_cols_dict)} COLUMNS:\")\n",
    "    for k, v in p_table_cols_dict.items(): print(f\"'{k}': '{v}'\")\n",
    "    print()\n",
    "    return\n",
    "\n",
    "\n",
    "db_name = \"customer.db\"\n",
    "table_name = \"customers\"\n",
    "table_cols_dict = {\n",
    "    \"first_name\": \"TEXT\",\n",
    "    \"last_name\": \"TEXT\",\n",
    "    \"email\": \"TEXT\"}\n",
    "\n",
    "# Create DB Table, with columns from dictionary function\n",
    "#dict_to_table(db_name, table_name, table_cols_dict)"
   ]
  },
  {
   "cell_type": "markdown",
   "metadata": {},
   "source": [
    "## Insert Records into existing Table\n",
    "\n",
    "<strong>1. Insert single Record into Table</strong> <br>\n",
    "   Single Record structure: (val1, val2, ...) tupple <br>\n",
    "   cursor().exectute(\"INSERT INTO tablename VALUES (tupple)\")<br><br>\n",
    "<strong>2. Insert many Records into Table</strong> <br>\n",
    "   Many Records structure: [(val1, val2, ...), (val1, val2, ...), (val1, val2, ...)] list of tupples <br>\n",
    "   cursor().exectutemany(\"INSERT INTO tablename VALUES (?,?,?)\", list of tupples)<br>\n",
    "   ?-s mean placeholders for tupples' values\n"
   ]
  },
  {
   "cell_type": "code",
   "execution_count": 162,
   "metadata": {
    "code_folding": []
   },
   "outputs": [],
   "source": [
    "def insert_single_record(p_db_name, p_table_name, p_record_tup):\n",
    "    with sqlite3.connect(p_db_name) as connection:\n",
    "        # Create cursor\n",
    "        cursor = connection.cursor()\n",
    "        # Insert a Record\n",
    "        cursor.execute(\"INSERT INTO {} VALUES {}\".format(p_table_name, p_record_tup))\n",
    "        # Commit our command\n",
    "        connection.commit()\n",
    "        \n",
    "    # Printing parameters\n",
    "    print(f\"A single RECORD INSERTED into '{p_table_name}' TABLE:\\n{p_record_tup}\\n\")\n",
    "    \n",
    "    return\n",
    "\n",
    "\n",
    "def insert_many_records(p_db_name, p_table_name, p_records_list):\n",
    "    with sqlite3.connect(p_db_name) as connection:\n",
    "        # Create cursor\n",
    "        cursor = connection.cursor()\n",
    "        # Insert many Records\n",
    "        cursor.executemany(\"INSERT INTO {} VALUES ({})\".format(\n",
    "            p_table_name, (len(many_records[0])*\"?,\")[0:-1]), p_records_list)\n",
    "        # Commit our command\n",
    "        connection.commit()\n",
    "        \n",
    "    # Printing parameters\n",
    "    print(f\"{len(p_records_list)} RECORDS INSERTED into '{p_table_name}' TABLE:\")\n",
    "    for i in p_records_list: print(i)\n",
    "    print()\n",
    "    return\n",
    "\n",
    "\n",
    "single_record = (\"Bela\", \"kovacs\", \"kovacs.ketto.bela@k2b.com\")\n",
    "many_records = [\n",
    "    (\"Peter\",\"Asd\",\"p.asd@asdmail.com\"),\n",
    "    (\"Mary\",\"cat\",\"mary.cat@catdog.eu\"),\n",
    "    (\"Levi\",\"Strong\",\"levi.strong@strongness.com\")]\n",
    "\n",
    "#insert_single_record(db_name, table_name, single_record)\n",
    "#insert_many_records(db_name, table_name, many_records)"
   ]
  },
  {
   "cell_type": "markdown",
   "metadata": {},
   "source": [
    "## Delete Table from Database\n",
    "cursor().exectute(\"DROP TABLE tablename\")"
   ]
  },
  {
   "cell_type": "code",
   "execution_count": 163,
   "metadata": {
    "code_folding": []
   },
   "outputs": [],
   "source": [
    "# Drop Table from dictionary\n",
    "def drop_talbe(p_db_name, p_table_name):\n",
    "    with sqlite3.connect(p_db_name) as connection:\n",
    "        # Create cursor\n",
    "        cursor = connection.cursor()\n",
    "        # Drop table\n",
    "        cursor.execute(\"DROP TABLE {}\".format(p_table_name))\n",
    "        # Commit our command\n",
    "        connection.commit()\n",
    "        \n",
    "    # Printing parameters\n",
    "    print(f\"'{p_table_name}' TABLE has been DROPPED from '{p_db_name}'\\n\")\n",
    "    return\n",
    "\n",
    "\n",
    "#drop_talbe(db_name, table_name)"
   ]
  },
  {
   "cell_type": "code",
   "execution_count": null,
   "metadata": {
    "code_folding": [],
    "scrolled": true
   },
   "outputs": [],
   "source": []
  },
  {
   "cell_type": "code",
   "execution_count": null,
   "metadata": {},
   "outputs": [],
   "source": []
  },
  {
   "cell_type": "code",
   "execution_count": 164,
   "metadata": {},
   "outputs": [],
   "source": [
    "# Close connection\n",
    "conn.close()"
   ]
  }
 ],
 "metadata": {
  "kernelspec": {
   "display_name": "Python 3",
   "language": "python",
   "name": "python3"
  },
  "language_info": {
   "codemirror_mode": {
    "name": "ipython",
    "version": 3
   },
   "file_extension": ".py",
   "mimetype": "text/x-python",
   "name": "python",
   "nbconvert_exporter": "python",
   "pygments_lexer": "ipython3",
   "version": "3.9.0"
  },
  "toc": {
   "base_numbering": 1,
   "nav_menu": {},
   "number_sections": true,
   "sideBar": true,
   "skip_h1_title": false,
   "title_cell": "Table of Contents",
   "title_sidebar": "Contents",
   "toc_cell": false,
   "toc_position": {},
   "toc_section_display": true,
   "toc_window_display": true
  }
 },
 "nbformat": 4,
 "nbformat_minor": 4
}
